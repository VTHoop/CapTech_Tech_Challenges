{
 "cells": [
  {
   "cell_type": "markdown",
   "metadata": {},
   "source": [
    "## This is the T01 Tech Challenge for CapTech"
   ]
  },
  {
   "cell_type": "code",
   "execution_count": 1,
   "metadata": {
    "collapsed": false
   },
   "outputs": [
    {
     "name": "stdout",
     "output_type": "stream",
     "text": [
      "Populating the interactive namespace from numpy and matplotlib\n"
     ]
    }
   ],
   "source": [
    "import matplotlib.pyplot as plt\n",
    "import pandas as pd\n",
    "import numpy as np\n",
    "import seaborn as sns\n",
    "import operator\n",
    "import collections\n",
    "from __future__ import division\n",
    "from collections import Counter\n",
    "\n",
    "%pylab inline\n",
    "matplotlib.rcParams['figure.figsize'] = (12,6)"
   ]
  },
  {
   "cell_type": "code",
   "execution_count": 2,
   "metadata": {
    "collapsed": false
   },
   "outputs": [
    {
     "name": "stderr",
     "output_type": "stream",
     "text": [
      "C:\\Users\\phooper\\AppData\\Local\\Continuum\\Anaconda2\\lib\\site-packages\\IPython\\core\\interactiveshell.py:2717: DtypeWarning: Columns (19) have mixed types. Specify dtype option on import or set low_memory=False.\n",
      "  interactivity=interactivity, compiler=compiler, result=result)\n"
     ]
    }
   ],
   "source": [
    "#creating Pandas dataframe from CSV file\n",
    "loans_df = pd.read_csv('loanStats.csv')"
   ]
  },
  {
   "cell_type": "markdown",
   "metadata": {},
   "source": [
    "### Notebook Functions"
   ]
  },
  {
   "cell_type": "code",
   "execution_count": 3,
   "metadata": {
    "collapsed": false
   },
   "outputs": [],
   "source": [
    "def sort_for_graph(uodict,sort_key,order):\n",
    "    if sort_key == \"key\":\n",
    "        key_num=0\n",
    "    elif sort_key == \"value\":\n",
    "        key_num=1\n",
    "        \n",
    "    if order == \"desc\":\n",
    "        orderBool = True\n",
    "    elif order == \"asc\":\n",
    "        orderBool = False\n",
    "    odict = sorted(uodict.items(), key=operator.itemgetter(key_num),reverse=orderBool)\n",
    "    keys = zip(*odict)[0]\n",
    "    values = zip(*odict)[1]\n",
    "    \n",
    "    return keys,values"
   ]
  },
  {
   "cell_type": "code",
   "execution_count": 4,
   "metadata": {
    "collapsed": true
   },
   "outputs": [],
   "source": [
    "def convert_date(x):\n",
    "    if type(x) is str:\n",
    "        return strftime(\"%m-%d-%Y\", strptime(x, \"%Y%m%dT%H%M%S\"))\n",
    "    else:\n",
    "        return \"00-00-0000\""
   ]
  },
  {
   "cell_type": "markdown",
   "metadata": {},
   "source": [
    "### Analyzing the columns and first set of rows within the dataset"
   ]
  },
  {
   "cell_type": "code",
   "execution_count": null,
   "metadata": {
    "collapsed": false,
    "scrolled": true
   },
   "outputs": [],
   "source": [
    "print loans_df.ix[:,0:6].head(5)"
   ]
  },
  {
   "cell_type": "code",
   "execution_count": null,
   "metadata": {
    "collapsed": false
   },
   "outputs": [],
   "source": [
    "print loans_df.ix[:,6:13].head(5)"
   ]
  },
  {
   "cell_type": "code",
   "execution_count": null,
   "metadata": {
    "collapsed": false
   },
   "outputs": [],
   "source": [
    "print loans_df.ix[:,13:19].head(5)"
   ]
  },
  {
   "cell_type": "code",
   "execution_count": null,
   "metadata": {
    "collapsed": false
   },
   "outputs": [],
   "source": [
    "print loans_df.ix[:,19:26].head(5)"
   ]
  },
  {
   "cell_type": "code",
   "execution_count": null,
   "metadata": {
    "collapsed": false
   },
   "outputs": [],
   "source": [
    "print loans_df.ix[:,26:33].head(5)"
   ]
  },
  {
   "cell_type": "code",
   "execution_count": null,
   "metadata": {
    "collapsed": false
   },
   "outputs": [],
   "source": [
    "print loans_df.ix[:,33:40].head(5)"
   ]
  },
  {
   "cell_type": "code",
   "execution_count": null,
   "metadata": {
    "collapsed": false
   },
   "outputs": [],
   "source": [
    "print loans_df.ix[:,41:46].head(5)"
   ]
  },
  {
   "cell_type": "code",
   "execution_count": null,
   "metadata": {
    "collapsed": false
   },
   "outputs": [],
   "source": [
    "print loans_df.ix[:,47:53].head(5)"
   ]
  },
  {
   "cell_type": "code",
   "execution_count": null,
   "metadata": {
    "collapsed": false,
    "scrolled": false
   },
   "outputs": [],
   "source": [
    "print loans_df.ix[:,54:60].head(5)"
   ]
  },
  {
   "cell_type": "markdown",
   "metadata": {},
   "source": [
    "### Data Cleaning"
   ]
  },
  {
   "cell_type": "markdown",
   "metadata": {},
   "source": [
    "#### Columns"
   ]
  },
  {
   "cell_type": "markdown",
   "metadata": {},
   "source": [
    "In analyzing the dataset of loans provided by Lending Club, several columns were identified that needed cleaning:\n",
    "1.  There are inconsistencies between the Loan Purpose and the Loan Title.  There may need to be additional Loan Purposes added as someone listed the Loan Purpose as \"Car\", but the Title listed \"Bike\".\n",
    "2.  Employer title column has blanks as well as many typos.  We need to find out if the blanks mean unemployed and there should be some employer name verification, so that we can analyze the data by this field if necessary.\n",
    "3.  The zip code column has some encryption on it in the database.  We won't be able to analyze the data by location without this information.  We can see if we can find a way to store it in an un-encrypted format in order to analyze the data that way.\n",
    "4.  The loan status column seems to have duplicate statuses. One that is normal and one that states that the borrower does not meet the credit policy.  The \"does not meet credit policy\" should be in it's own column and be combined later in analysis if needed."
   ]
  },
  {
   "cell_type": "markdown",
   "metadata": {},
   "source": [
    "#### Rows"
   ]
  },
  {
   "cell_type": "markdown",
   "metadata": {},
   "source": [
    "Specific rows seem to have inconsistencies.  The following identified are:\n",
    "1.  IDs 1077501, 1077175, and 1071795 have no employer title listed where the employer length is given as something greater than zero.  These are rows before 9/23/2013 where it looks like this was not enforced, but it is even seen on ID 9776036 which is after that date.  We will need to check with the appropriate stakeholders and determine if there is a meaning behind that.  If it is something such as self-employment, then it would be good to indicate something like that.\n",
    "2.  There are blank rows in the \"inq_last_6mths\" column.  It looks as though this correlates with people who have zero open credit accounts.  We can probably assume that these are zeroes, but will want to confirm with the stakeholders.\n",
    "3.  There are blank rows in the \"collections_12_mths_ex_med\" column.  These may correlate with the \"inq_last_6mths\" blanks, but will need to confirm that with the stakeholders too."
   ]
  },
  {
   "cell_type": "markdown",
   "metadata": {},
   "source": [
    "#### Cleaning Up Date Columns"
   ]
  },
  {
   "cell_type": "code",
   "execution_count": 14,
   "metadata": {
    "collapsed": true
   },
   "outputs": [],
   "source": [
    "from time import gmtime, strftime, strptime"
   ]
  },
  {
   "cell_type": "code",
   "execution_count": 15,
   "metadata": {
    "collapsed": false
   },
   "outputs": [],
   "source": [
    "loan_dates_df = loans_df.loc[:,['issue_d','earliest_cr_line','next_pymnt_d','last_credit_pull_d','final_d','last_pymnt_d']]\n",
    "for i in range(len(loan_dates_df.keys())):\n",
    "    loan_dates_df.rename(columns={loan_dates_df.keys()[i]: loan_dates_df.keys()[i]+'_fmt'}, inplace=True)"
   ]
  },
  {
   "cell_type": "code",
   "execution_count": 16,
   "metadata": {
    "collapsed": false
   },
   "outputs": [],
   "source": [
    "loan_dates_df = loan_dates_df.applymap(convert_date)\n",
    "loans_df = pd.merge(loans_df, loan_dates_df, left_index=True, right_index=True) #merge into existing table"
   ]
  },
  {
   "cell_type": "markdown",
   "metadata": {
    "collapsed": true
   },
   "source": [
    "### Data Understanding"
   ]
  },
  {
   "cell_type": "markdown",
   "metadata": {},
   "source": [
    "#### Numerical Variables"
   ]
  },
  {
   "cell_type": "markdown",
   "metadata": {},
   "source": [
    "Here are a list of the major numerical variables captured for Lending Club:\n",
    "\n",
    "Loan amount, installment, employer length, debt-to-income, inquiries over the last 6 months, open accounts, total accounts, and revolving balance. "
   ]
  },
  {
   "cell_type": "code",
   "execution_count": 17,
   "metadata": {
    "collapsed": false
   },
   "outputs": [],
   "source": [
    "#create a table with only numerical variables\n",
    "numerical_df = loans_df.loc[:, ['loan_amnt', 'installment', 'emp_length_num','dti','inq_last_6mths' \\\n",
    "                                ,'open_acc','total_acc','revol_bal']]"
   ]
  },
  {
   "cell_type": "code",
   "execution_count": 18,
   "metadata": {
    "collapsed": true
   },
   "outputs": [],
   "source": [
    "#standardize the tables with numerical variables\n",
    "numerical_df_std = (numerical_df - numerical_df.mean()) / (numerical_df.max() \\\n",
    "                                                                         - numerical_df.min())"
   ]
  },
  {
   "cell_type": "markdown",
   "metadata": {},
   "source": [
    "Lets take a very high level look at the distributions of these variables."
   ]
  },
  {
   "cell_type": "code",
   "execution_count": 19,
   "metadata": {
    "collapsed": false
   },
   "outputs": [
    {
     "data": {
      "image/png": "[encoded data removed]",
      "text/plain": [
       "<matplotlib.figure.Figure at 0x1387c940>"
      ]
     },
     "metadata": {},
     "output_type": "display_data"
    }
   ],
   "source": [
    "numerical_df_std.hist();"
   ]
  },
  {
   "cell_type": "markdown",
   "metadata": {},
   "source": [
    "##### 1. Debt-To-Income Ratio (DTI)"
   ]
  },
  {
   "cell_type": "markdown",
   "metadata": {},
   "source": [
    "This variable measures the percentage of debt owned by the member compared to the income they receive.  Typically this is done on a monthly basis in order to more easily understand the monthly disposable income that a person would have remaining when they apply for a loan.  Lenders would want to see a generally low number here representing available funds to pay off a new loan."
   ]
  },
  {
   "cell_type": "code",
   "execution_count": 20,
   "metadata": {
    "collapsed": false
   },
   "outputs": [
    {
     "data": {
      "text/plain": [
       "count    466287.000000\n",
       "mean         17.218747\n",
       "std           7.851106\n",
       "min           0.000000\n",
       "25%          11.360000\n",
       "50%          16.870000\n",
       "75%          22.780000\n",
       "max          39.990000\n",
       "Name: dti, dtype: float64"
      ]
     },
     "execution_count": 20,
     "metadata": {},
     "output_type": "execute_result"
    }
   ],
   "source": [
    "numerical_df['dti'].describe()"
   ]
  },
  {
   "cell_type": "markdown",
   "metadata": {},
   "source": [
    "Here we can see that the data type of DTI is a floating type."
   ]
  },
  {
   "cell_type": "code",
   "execution_count": 21,
   "metadata": {
    "collapsed": false
   },
   "outputs": [
    {
     "data": {
      "image/png": "[encoded data removed]",
      "text/plain": [
       "<matplotlib.figure.Figure at 0x1d2e16d8>"
      ]
     },
     "metadata": {},
     "output_type": "display_data"
    }
   ],
   "source": [
    "plt.hist(numerical_df['dti'],8)\n",
    "plt.axis([0, round(numerical_df['dti'].max()+(numerical_df['dti'].max()*.01)), 0, 110000])\n",
    "plt.xlabel('Debt-To-Income Ratio')\n",
    "plt.ylabel('# of Members')\n",
    "plt.tight_layout()\n",
    "plt.show()"
   ]
  },
  {
   "cell_type": "markdown",
   "metadata": {},
   "source": [
    "When viewing the data on a scale from min to max, the distribution of the DTI for members who are approved for loans looks like a normally distributed range of values.\n",
    "\n",
    "However, if you take into account a person could have a DTI ratio of 0 to 100, the distribution becomes negatively skewed."
   ]
  },
  {
   "cell_type": "code",
   "execution_count": 22,
   "metadata": {
    "collapsed": false
   },
   "outputs": [
    {
     "data": {
      "image/png": "[encoded data removed]",
      "text/plain": [
       "<matplotlib.figure.Figure at 0x1847abe0>"
      ]
     },
     "metadata": {},
     "output_type": "display_data"
    }
   ],
   "source": [
    "plt.hist(numerical_df['dti'],8)\n",
    "plt.axis([0, 100, 0, 110000])\n",
    "plt.xlabel('Debt-To-Income Ratio')\n",
    "plt.ylabel('# of Members')\n",
    "plt.tight_layout()\n",
    "plt.show()"
   ]
  },
  {
   "cell_type": "markdown",
   "metadata": {},
   "source": [
    "In general, it looks like Lending Club only accepts people with a DTI ratio of 35 or less.  It would be interesting to examine what other set of criteria allowed people with over a 35 DTI ratio be approved for a loan."
   ]
  },
  {
   "cell_type": "markdown",
   "metadata": {},
   "source": [
    "##### 2. Total Accounts"
   ]
  },
  {
   "cell_type": "markdown",
   "metadata": {},
   "source": [
    "Total accounts is the number of credit lines currently on the borrower's credit file.  Total accounts only paint a portion of the picture as these aren't listed as currently open or the status of whether they were completely paid off or not.  In general though, it's probably best to see some credit lines opened, but not too many."
   ]
  },
  {
   "cell_type": "code",
   "execution_count": 23,
   "metadata": {
    "collapsed": false
   },
   "outputs": [
    {
     "data": {
      "text/plain": [
       "count    466258.000000\n",
       "mean         25.064432\n",
       "std          11.600136\n",
       "min           1.000000\n",
       "25%          17.000000\n",
       "50%          23.000000\n",
       "75%          32.000000\n",
       "max         156.000000\n",
       "Name: total_acc, dtype: float64"
      ]
     },
     "execution_count": 23,
     "metadata": {},
     "output_type": "execute_result"
    }
   ],
   "source": [
    "numerical_df['total_acc'].describe()"
   ]
  },
  {
   "cell_type": "markdown",
   "metadata": {},
   "source": [
    "Here we can see that the data type of Total Accounts is a floating type."
   ]
  },
  {
   "cell_type": "code",
   "execution_count": 24,
   "metadata": {
    "collapsed": false
   },
   "outputs": [
    {
     "name": "stderr",
     "output_type": "stream",
     "text": [
      "C:\\Users\\phooper\\AppData\\Local\\Continuum\\Anaconda2\\lib\\site-packages\\numpy\\lib\\function_base.py:583: RuntimeWarning: invalid value encountered in greater_equal\n",
      "  keep = (tmp_a >= mn)\n",
      "C:\\Users\\phooper\\AppData\\Local\\Continuum\\Anaconda2\\lib\\site-packages\\numpy\\lib\\function_base.py:584: RuntimeWarning: invalid value encountered in less_equal\n",
      "  keep &= (tmp_a <= mx)\n"
     ]
    },
    {
     "data": {
      "image/png": "[encoded data removed]",
      "text/plain": [
       "<matplotlib.figure.Figure at 0x182c8710>"
      ]
     },
     "metadata": {},
     "output_type": "display_data"
    }
   ],
   "source": [
    "#numerical_df['total_acc'].hist()\n",
    "plt.hist(numerical_df['total_acc'],30,(0,round(numerical_df['total_acc'].max()+(numerical_df['total_acc'].max()*.01))))\n",
    "plt.axis([0, round(numerical_df['total_acc'].max()+(numerical_df['total_acc'].max()*.01)), 0, 105000])\n",
    "plt.xlabel('Total Accounts')\n",
    "plt.ylabel('# of Members')\n",
    "plt.show()"
   ]
  },
  {
   "cell_type": "markdown",
   "metadata": {},
   "source": [
    "The distribution for number of total accounts of approved borrowers with a loan at Lending Club is negatively skewed.  This was expected as you would like people with a lower amount of accounts.\n",
    "\n",
    "There are a couple members who are so far off of the distrubution, that you aren't even able to see a bar accounting for their existence."
   ]
  },
  {
   "cell_type": "code",
   "execution_count": 25,
   "metadata": {
    "collapsed": false
   },
   "outputs": [
    {
     "data": {
      "image/png": "[encoded data removed]",
      "text/plain": [
       "<matplotlib.figure.Figure at 0xf992710>"
      ]
     },
     "metadata": {},
     "output_type": "display_data"
    }
   ],
   "source": [
    "#numerical_df['total_acc'].hist()\n",
    "plt.hist(numerical_df['total_acc'],7,(90,160))\n",
    "plt.axis([90, 160, 0, 50])\n",
    "plt.xlabel('Total Accounts')\n",
    "plt.ylabel('# of Members')\n",
    "plt.show()"
   ]
  },
  {
   "cell_type": "markdown",
   "metadata": {},
   "source": [
    "Zooming in a little closer on those individuals, we can see there are about 20 people who have over 100 accounts open on their credit file.  Maybe these people are older and they have built up a history their entire life, but it would be interesting to see the makeup of these individuals."
   ]
  },
  {
   "cell_type": "markdown",
   "metadata": {},
   "source": [
    "##### 3. Open Accounts"
   ]
  },
  {
   "cell_type": "markdown",
   "metadata": {},
   "source": [
    "After asking a question about the borrowers with a lot of total accounts, it would be interesting to see the distribution of people with open accounts on their credit file.  Open accounts is the number of credit lines currently open the borrower's credit file.  In general, a lender would like to see a borrower with some accounts open to prove that he or she would have the ability to regularly pay on those accounts, but you wouldn't want to see too many which would show that the borrower has a lot of institutions that he or she regularly has to pay."
   ]
  },
  {
   "cell_type": "code",
   "execution_count": 26,
   "metadata": {
    "collapsed": false
   },
   "outputs": [
    {
     "data": {
      "text/plain": [
       "count    466258.000000\n",
       "mean         11.187060\n",
       "std           4.987517\n",
       "min           0.000000\n",
       "25%           8.000000\n",
       "50%          10.000000\n",
       "75%          14.000000\n",
       "max          84.000000\n",
       "Name: open_acc, dtype: float64"
      ]
     },
     "execution_count": 26,
     "metadata": {},
     "output_type": "execute_result"
    }
   ],
   "source": [
    "numerical_df['open_acc'].describe()"
   ]
  },
  {
   "cell_type": "markdown",
   "metadata": {},
   "source": [
    "Here we can see that the data type of Open Accounts is a floating type."
   ]
  },
  {
   "cell_type": "code",
   "execution_count": 27,
   "metadata": {
    "collapsed": false
   },
   "outputs": [
    {
     "data": {
      "image/png": "[encoded data removed]",
      "text/plain": [
       "<matplotlib.figure.Figure at 0x1d18c4e0>"
      ]
     },
     "metadata": {},
     "output_type": "display_data"
    }
   ],
   "source": [
    "#numerical_df['total_acc'].hist()\n",
    "plt.hist(numerical_df['open_acc'],30,(0,round(numerical_df['open_acc'].max()+(numerical_df['open_acc'].max()*.01))))\n",
    "plt.axis([0, round(numerical_df['open_acc'].max()+(numerical_df['open_acc'].max()*.01)), 0, 130000])\n",
    "plt.xlabel('Open Accounts')\n",
    "plt.ylabel('# of Members')\n",
    "plt.show()"
   ]
  },
  {
   "cell_type": "markdown",
   "metadata": {},
   "source": [
    "The distribution for number of open accounts of approved borrowers with a loan at Lending Club is negatively skewed.  This was expected as you would like people with a lower amount of open borrowing accounts.\n",
    "\n",
    "Again, we see there are a couple members who are so far off of the distrubution, that you aren't even able to see a bar accounting for their existence."
   ]
  },
  {
   "cell_type": "code",
   "execution_count": 28,
   "metadata": {
    "collapsed": false
   },
   "outputs": [
    {
     "data": {
      "image/png": "[encoded data removed]",
      "text/plain": [
       "<matplotlib.figure.Figure at 0x1d1542b0>"
      ]
     },
     "metadata": {},
     "output_type": "display_data"
    }
   ],
   "source": [
    "#numerical_df['total_acc'].hist()\n",
    "plt.hist(numerical_df['open_acc'],8,(45,round(numerical_df['open_acc'].max()+(numerical_df['open_acc'].max()*.01))))\n",
    "plt.axis([45, round(numerical_df['open_acc'].max()+(numerical_df['open_acc'].max()*.01)), 0, 50])\n",
    "plt.xlabel('Open Accounts')\n",
    "plt.ylabel('# of Members')\n",
    "plt.show()"
   ]
  },
  {
   "cell_type": "markdown",
   "metadata": {},
   "source": [
    "There are people with over 75 open credit accounts that were approved for loans!  That seems like a huge risk.  I would love to look into that."
   ]
  },
  {
   "cell_type": "markdown",
   "metadata": {},
   "source": [
    "##### 4. Employer Length"
   ]
  },
  {
   "cell_type": "markdown",
   "metadata": {},
   "source": [
    "Employer length is simple a measurement of how long a borrower has currently been with their current employer in terms of years.  In general, a lender is looking for someone with stability, so the higher number of years would be better."
   ]
  },
  {
   "cell_type": "code",
   "execution_count": 29,
   "metadata": {
    "collapsed": false
   },
   "outputs": [
    {
     "data": {
      "text/plain": [
       "count    466287.000000\n",
       "mean          6.678243\n",
       "std           3.829742\n",
       "min           0.000000\n",
       "25%           3.000000\n",
       "50%           7.000000\n",
       "75%          11.000000\n",
       "max          11.000000\n",
       "Name: emp_length_num, dtype: float64"
      ]
     },
     "execution_count": 29,
     "metadata": {},
     "output_type": "execute_result"
    }
   ],
   "source": [
    "numerical_df['emp_length_num'].describe()"
   ]
  },
  {
   "cell_type": "markdown",
   "metadata": {},
   "source": [
    "Here we can see that the data type of Employer Length is a floating type."
   ]
  },
  {
   "cell_type": "code",
   "execution_count": 30,
   "metadata": {
    "collapsed": false,
    "scrolled": false
   },
   "outputs": [
    {
     "data": {
      "image/png": "[encoded data removed]",
      "text/plain": [
       "<matplotlib.figure.Figure at 0x1d095a20>"
      ]
     },
     "metadata": {},
     "output_type": "display_data"
    }
   ],
   "source": [
    "plt.hist(numerical_df['emp_length_num'],np.arange(13)-0.5,(-.5,11.5))\n",
    "plt.axis([-.5, 11.5, 0, 175000])\n",
    "plt.xlabel('Employer Length (years)')\n",
    "plt.xticks(range(12), range(12))\n",
    "plt.ylabel('# of Members')\n",
    "plt.show()"
   ]
  },
  {
   "cell_type": "markdown",
   "metadata": {},
   "source": [
    "The distribution for Employer Length is fairly uniform.  There is a large number for 11, but that is because it includes anything above 10.  If we were to expand that number, it would most likely continue to flatten out to a certain extent."
   ]
  },
  {
   "cell_type": "markdown",
   "metadata": {},
   "source": [
    "##### 5. Loan Amount"
   ]
  },
  {
   "cell_type": "markdown",
   "metadata": {},
   "source": [
    "Loan amount is the dollar figure for the amount of money given to the borrower.  It does not include what the interest will amount to, but just the principal that will need to be paid back."
   ]
  },
  {
   "cell_type": "code",
   "execution_count": 31,
   "metadata": {
    "collapsed": false
   },
   "outputs": [
    {
     "data": {
      "text/plain": [
       "count    466287.000000\n",
       "mean      14317.280505\n",
       "std        8286.497984\n",
       "min         500.000000\n",
       "25%        8000.000000\n",
       "50%       12000.000000\n",
       "75%       20000.000000\n",
       "max       35000.000000\n",
       "Name: loan_amnt, dtype: float64"
      ]
     },
     "execution_count": 31,
     "metadata": {},
     "output_type": "execute_result"
    }
   ],
   "source": [
    "numerical_df['loan_amnt'].describe()"
   ]
  },
  {
   "cell_type": "markdown",
   "metadata": {},
   "source": [
    "Here we can see that the data type of Loan Amount is a floating type."
   ]
  },
  {
   "cell_type": "code",
   "execution_count": 32,
   "metadata": {
    "collapsed": false,
    "scrolled": false
   },
   "outputs": [
    {
     "data": {
      "image/png": "[encoded data removed]",
      "text/plain": [
       "<matplotlib.figure.Figure at 0x10615f98>"
      ]
     },
     "metadata": {},
     "output_type": "display_data"
    }
   ],
   "source": [
    "plt.hist(numerical_df['loan_amnt'],13,(0,round(numerical_df['loan_amnt'].max()+(numerical_df['loan_amnt'].max()*.01))))\n",
    "plt.axis([0,round(numerical_df['loan_amnt'].max()+(numerical_df['loan_amnt'].max()*.01)), 0, 80000])\n",
    "plt.xlabel('Loan Amount')\n",
    "plt.ylabel('# of Members')\n",
    "plt.show()"
   ]
  },
  {
   "cell_type": "markdown",
   "metadata": {},
   "source": [
    "This distribution for loan amount is generally negatively skewed.  There is an uptick of loan amounts around $20,000.  It would be interesting to see what would cause that.  Maybe most of the loans in that area are for a car."
   ]
  },
  {
   "cell_type": "markdown",
   "metadata": {},
   "source": [
    "#### Categorical Variables"
   ]
  },
  {
   "cell_type": "markdown",
   "metadata": {},
   "source": [
    "Here are a list of the major categorical variables captured for Lending Club:\n",
    "\n",
    "Addr state, grade, subgrade, home ownership, purpose, and loan status"
   ]
  },
  {
   "cell_type": "code",
   "execution_count": 33,
   "metadata": {
    "collapsed": true
   },
   "outputs": [],
   "source": [
    "#create a table with only numerical variables\n",
    "categorical_df = loans_df.loc[:, ['addr_state', 'grade', 'sub_grade','home_ownership','purpose' \\\n",
    "                                ,'loan_status','loan_amnt','avg_cur_bal']]"
   ]
  },
  {
   "cell_type": "markdown",
   "metadata": {},
   "source": [
    "##### State"
   ]
  },
  {
   "cell_type": "markdown",
   "metadata": {},
   "source": [
    "State refers to the residency address of the borrower.  This is captured in a String format of the 2 letter abbreviation of the state."
   ]
  },
  {
   "cell_type": "code",
   "execution_count": 56,
   "metadata": {
    "collapsed": false
   },
   "outputs": [
    {
     "data": {
      "image/png": "[encoded data removed]",
      "text/plain": [
       "<matplotlib.figure.Figure at 0x149a25f8>"
      ]
     },
     "metadata": {},
     "output_type": "display_data"
    }
   ],
   "source": [
    "state_freq = Counter(categorical_df['addr_state'])\n",
    "\n",
    "#return sorted order of grades and counts\n",
    "states, state_counts = sort_for_graph(state_freq,\"value\",\"desc\")\n",
    "\n",
    "plt.bar(range(len(state_freq)),state_counts)\n",
    "plt.xticks(range(len(state_freq)),states)\n",
    "plt.tight_layout()\n",
    "plt.show()"
   ]
  },
  {
   "cell_type": "markdown",
   "metadata": {},
   "source": [
    "The top 3 states look to be California, New York, and Texas.  That isn't very surprising due to their populations overall and population of people with higher incomes.  It would be interesting to take a look at the top 5 and bottom 5 and standardize the data against the populations and incomes of those states."
   ]
  },
  {
   "cell_type": "markdown",
   "metadata": {},
   "source": [
    "##### Purpose"
   ]
  },
  {
   "cell_type": "markdown",
   "metadata": {},
   "source": [
    "Purpose looks to be a dropdown list of items that borrowers select from when applying for their loan.  This is good for the fact that it categorizes our loans much easier than the free form text box that the column 'Title' provides.\n",
    "\n",
    "The Purpose is stored as a string."
   ]
  },
  {
   "cell_type": "code",
   "execution_count": 35,
   "metadata": {
    "collapsed": false
   },
   "outputs": [
    {
     "data": {
      "image/png": "[encoded data removed]",
      "text/plain": [
       "<matplotlib.figure.Figure at 0x149a62e8>"
      ]
     },
     "metadata": {},
     "output_type": "display_data"
    }
   ],
   "source": [
    "purpose_freq = Counter(categorical_df['purpose'])\n",
    "\n",
    "#return sorted order of purposes and counts\n",
    "purposes, purpose_counts = sort_for_graph(purpose_freq,\"value\",\"desc\")\n",
    "\n",
    "#add line breaks in keys so that we can easily see them on the graph\n",
    "purposes = list(purposes)\n",
    "for x,str in enumerate(purpose_freq.keys()):\n",
    "    purposes[x] = str.replace('_','\\n')\n",
    "\n",
    "#print graph\n",
    "plt.bar(range(len(purpose_freq)),purpose_counts)\n",
    "plt.xticks(range(len(purpose_freq)),purposes)\n",
    "plt.show()"
   ]
  },
  {
   "cell_type": "markdown",
   "metadata": {},
   "source": [
    "As expected, most people get a personal loan to try and lower the interest rate of existing debt as shown by the debt consolidation purpose.  With a home loan, that would traditionally be a very big amount and for a 30 year term.  The terms on the loans for Lending Club are only 5 years.  These loans may be for a down payment, but it would be interesting to dive into that."
   ]
  },
  {
   "cell_type": "markdown",
   "metadata": {},
   "source": [
    "##### Home Ownership"
   ]
  },
  {
   "cell_type": "markdown",
   "metadata": {},
   "source": [
    "Home Ownership looks to be a dropdown list of items that borrowers select from when applying for their loan.  It is categorized into fully owning, renting, owning with a mortgage, and other.\n",
    "\n",
    "Home Ownership is stored as a string."
   ]
  },
  {
   "cell_type": "code",
   "execution_count": 36,
   "metadata": {
    "collapsed": false
   },
   "outputs": [
    {
     "data": {
      "image/png": "[encoded data removed]",
      "text/plain": [
       "<matplotlib.figure.Figure at 0x15493eb8>"
      ]
     },
     "metadata": {},
     "output_type": "display_data"
    }
   ],
   "source": [
    "home_own_freq = Counter(categorical_df['home_ownership'])\n",
    "   \n",
    "#return sorted order of home ownership and counts\n",
    "home_owns, home_own_counts = sort_for_graph(home_own_freq,\"value\",\"desc\")\n",
    "\n",
    "#print graph\n",
    "plt.bar(range(len(home_own_freq)),home_own_counts)\n",
    "plt.xticks(range(len(home_own_freq)),home_owns)\n",
    "plt.show()"
   ]
  },
  {
   "cell_type": "markdown",
   "metadata": {},
   "source": [
    "Not much too exciting here by itself.  It would be interesting to cross-section this information with the loan purpose.  We may gain some information about whether those that currently rent are the ones looking for houses or that those who own a house are now starting their own business."
   ]
  },
  {
   "cell_type": "markdown",
   "metadata": {},
   "source": [
    "#### 4.\tWhat is the average loan amount, average DTI (debt-to-income ratio), and average PTI (loan payment-to-income ratio)?"
   ]
  },
  {
   "cell_type": "code",
   "execution_count": 37,
   "metadata": {
    "collapsed": false
   },
   "outputs": [
    {
     "name": "stdout",
     "output_type": "stream",
     "text": [
      "$14,317.28\n"
     ]
    }
   ],
   "source": [
    "print '${:,.2f}'.format(loans_df['loan_amnt'].mean())"
   ]
  },
  {
   "cell_type": "code",
   "execution_count": 38,
   "metadata": {
    "collapsed": false
   },
   "outputs": [
    {
     "name": "stdout",
     "output_type": "stream",
     "text": [
      "17.2187468448\n"
     ]
    }
   ],
   "source": [
    "print loans_df['dti'].mean()"
   ]
  },
  {
   "cell_type": "code",
   "execution_count": 39,
   "metadata": {
    "collapsed": false
   },
   "outputs": [
    {
     "name": "stdout",
     "output_type": "stream",
     "text": [
      "8.01044361602\n"
     ]
    }
   ],
   "source": [
    "PTI = (loans_df['installment']/(loans_df['annual_inc']/12)*100)\n",
    "print PTI.mean()"
   ]
  },
  {
   "cell_type": "code",
   "execution_count": 40,
   "metadata": {
    "collapsed": false
   },
   "outputs": [],
   "source": [
    "loan_orig_month = ['month']\n",
    "\n",
    "for id, date in enumerate(loans_df['issue_d_fmt']):\n",
    "    loan_orig_month.append(datetime.datetime.strptime(date, \"%m-%d-%Y\").month)\n",
    "\n",
    "loan_orig_month.remove('month')"
   ]
  },
  {
   "cell_type": "markdown",
   "metadata": {},
   "source": [
    "#### 5.\tWhat is the most common month for issuing new loans?"
   ]
  },
  {
   "cell_type": "code",
   "execution_count": 41,
   "metadata": {
    "collapsed": false
   },
   "outputs": [
    {
     "data": {
      "image/png": "[encoded data removed]",
      "text/plain": [
       "<matplotlib.figure.Figure at 0x14988470>"
      ]
     },
     "metadata": {},
     "output_type": "display_data"
    }
   ],
   "source": [
    "month_freq = Counter(loan_orig_month)\n",
    "\n",
    "#return sorted order of purposes and counts\n",
    "months, month_counts = sort_for_graph(month_freq,\"value\",\"desc\")\n",
    "\n",
    "#print graph\n",
    "plt.bar(range(len(month_freq)),month_counts)\n",
    "plt.xticks(range(len(month_freq)),months)\n",
    "plt.show()"
   ]
  },
  {
   "cell_type": "markdown",
   "metadata": {},
   "source": [
    "The most common month for new loans is October."
   ]
  },
  {
   "cell_type": "markdown",
   "metadata": {},
   "source": [
    "#### 6.\tWhat is the most common day that loans were fully paid off?"
   ]
  },
  {
   "cell_type": "code",
   "execution_count": 42,
   "metadata": {
    "collapsed": false
   },
   "outputs": [],
   "source": [
    "loan_paid_day = ['day']\n",
    "\n",
    "for id, date in enumerate(loans_df['final_d_fmt']):\n",
    "    if date <> '00-00-0000':\n",
    "        loan_paid_day.append(datetime.datetime.strptime(date, \"%m-%d-%Y\").day)\n",
    "\n",
    "loan_paid_day.remove('day')"
   ]
  },
  {
   "cell_type": "code",
   "execution_count": 43,
   "metadata": {
    "collapsed": false
   },
   "outputs": [
    {
     "name": "stdout",
     "output_type": "stream",
     "text": [
      "Counter({1: 466287})\n"
     ]
    }
   ],
   "source": [
    "day_freq = Counter(loan_paid_day)\n",
    "print day_freq"
   ]
  },
  {
   "cell_type": "markdown",
   "metadata": {},
   "source": [
    "All payments are made on the first of the month so final payments would happen on the first as well."
   ]
  },
  {
   "cell_type": "markdown",
   "metadata": {},
   "source": [
    "#### 7.\tPlot a bar graph for grades and subgrades. What does this tell you about the Lending Club’s current portfolio of loans?"
   ]
  },
  {
   "cell_type": "code",
   "execution_count": 44,
   "metadata": {
    "collapsed": false
   },
   "outputs": [],
   "source": [
    "grades_subgrades_df = loans_df.loc[:, ['grade','sub_grade']]"
   ]
  },
  {
   "cell_type": "code",
   "execution_count": 45,
   "metadata": {
    "collapsed": false
   },
   "outputs": [
    {
     "data": {
      "image/png": "[encoded data removed]",
      "text/plain": [
       "<matplotlib.figure.Figure at 0x106a18d0>"
      ]
     },
     "metadata": {},
     "output_type": "display_data"
    }
   ],
   "source": [
    "#create counter of grades\n",
    "grade_freq = Counter(grades_subgrades_df['grade'])\n",
    "\n",
    "#return sorted order of grades and counts\n",
    "grades, grade_counts = sort_for_graph(grade_freq,\"key\",\"asc\")\n",
    "\n",
    "#graph out grades and counts\n",
    "plt.bar(range(len(grade_freq)),grade_counts)\n",
    "plt.xlabel('Credit Grade')\n",
    "plt.ylabel('# of Members')\n",
    "plt.xticks(range(len(grade_freq)), grades)\n",
    "plt.show()"
   ]
  },
  {
   "cell_type": "code",
   "execution_count": 46,
   "metadata": {
    "collapsed": false
   },
   "outputs": [
    {
     "data": {
      "image/png": "[encoded data removed]",
      "text/plain": [
       "<matplotlib.figure.Figure at 0x1d095780>"
      ]
     },
     "metadata": {},
     "output_type": "display_data"
    }
   ],
   "source": [
    "subgrade_freq = Counter(grades_subgrades_df['sub_grade'])\n",
    "\n",
    "#return sorted order of grades and counts\n",
    "grades, grade_counts = sort_for_graph(subgrade_freq,\"key\",\"asc\")\n",
    "\n",
    "plt.bar(range(len(subgrade_freq)),grade_counts)\n",
    "plt.xticks(range(len(subgrade_freq)),grades)\n",
    "plt.xlabel('Credit Subgrade')\n",
    "plt.ylabel('# of Members')\n",
    "plt.show()"
   ]
  },
  {
   "cell_type": "markdown",
   "metadata": {},
   "source": [
    "#### 8.\tCheck out the “status” variable. What do each of the categories mean? Which category is the largest?"
   ]
  },
  {
   "cell_type": "code",
   "execution_count": 47,
   "metadata": {
    "collapsed": false
   },
   "outputs": [
    {
     "data": {
      "image/png": "[encoded data removed]",
      "text/plain": [
       "<matplotlib.figure.Figure at 0xf812390>"
      ]
     },
     "metadata": {},
     "output_type": "display_data"
    }
   ],
   "source": [
    "#create counter of statuss\n",
    "status_freq = Counter(categorical_df['loan_status'])\n",
    "\n",
    "#return sorted order of statuss and counts\n",
    "statuses, status_counts = sort_for_graph(status_freq,\"value\",\"desc\")\n",
    "\n",
    "#add line breaks in keys so that we can easily see them on the graph\n",
    "statuses = list(statuses)\n",
    "for x,str in enumerate(statuses):\n",
    "    statuses[x] = str.replace(' ','\\n')\n",
    "\n",
    "#graph out statuses and counts\n",
    "plt.bar(range(len(status_freq)),status_counts)\n",
    "plt.xlabel('Loan status')\n",
    "plt.ylabel('# of Members')\n",
    "plt.xticks(range(len(status_freq)), statuses)\n",
    "plt.show()"
   ]
  },
  {
   "cell_type": "markdown",
   "metadata": {},
   "source": [
    "This graph shows good news for Lending Club.  Over 75% of the loans in existence are currently open and in a \"Current\" status which should mean they're receiving payments when they expect to.  Also of note, is that there are very few not in good standing.  But of those not in good standing, the biggest number comes from 31-120 days late so those people might start to fall into the Default bucket.\n",
    "\n",
    "Loan status is definitely important to the analysis of Lending Club as it gives a high level picture to executives as to where and when to expect revenue and report on that."
   ]
  },
  {
   "cell_type": "markdown",
   "metadata": {},
   "source": [
    "#### 9. Based on your analysis of the status categories in the previous question, create a flag variable that indicates whether a loan is bad or not."
   ]
  },
  {
   "cell_type": "code",
   "execution_count": 48,
   "metadata": {
    "collapsed": false
   },
   "outputs": [],
   "source": [
    "bad_status = ['Charged Off', 'Late (31-120 days)','Does not meet the credit policy.  Status:Charged Off',\\\n",
    "              'Default','Does not meet the credit policy.  Status:Late (31-120 days)']\n",
    "bad_status_col = ['bad_status_col']\n",
    "\n",
    "for status in loans_df['loan_status']:\n",
    "    bad_status_col.append(status in bad_status) \n",
    "\n",
    "bad_status_col.remove('bad_status_col')\n",
    "\n",
    "bad_status_df = pd.DataFrame(data={'bad_loan':bad_status_col})\n",
    "    \n",
    "loans_df = pd.merge(loans_df, bad_status_df, left_index=True, right_index=True) #merge into existing table"
   ]
  },
  {
   "cell_type": "code",
   "execution_count": 49,
   "metadata": {
    "collapsed": false
   },
   "outputs": [],
   "source": [
    "bad_loans_df = loans_df[loans_df.bad_loan == True]\n",
    "good_loans_df = loans_df[loans_df.bad_loan == False]"
   ]
  },
  {
   "cell_type": "markdown",
   "metadata": {},
   "source": [
    "##### Comparing the DTI of Good and Bad Loans"
   ]
  },
  {
   "cell_type": "code",
   "execution_count": 50,
   "metadata": {
    "collapsed": false
   },
   "outputs": [
    {
     "data": {
      "image/png": "[encoded data removed]",
      "text/plain": [
       "<matplotlib.figure.Figure at 0x10605048>"
      ]
     },
     "metadata": {},
     "output_type": "display_data"
    }
   ],
   "source": [
    "plt.hist(bad_loans_df.dti,17,(0,100),alpha=0.5, label='Bad Loans', normed=True)\n",
    "plt.hist(good_loans_df.dti,17,(0,100),alpha=0.5, label='Good Loans', normed=True)\n",
    "#plt.axis([0, 100, 0, 100])\n",
    "plt.xlabel('Debt-To-Income Ratio')\n",
    "plt.ylabel('Normalized # of Members')\n",
    "plt.legend(loc='upper right')\n",
    "plt.show()"
   ]
  },
  {
   "cell_type": "markdown",
   "metadata": {},
   "source": [
    "The distributions looks fairly simliar here.  The mean of the Bad Loans looks to be a tad higher, but nothing that we could use to determine where significant risk becomes a factor on DTI ratio."
   ]
  },
  {
   "cell_type": "markdown",
   "metadata": {},
   "source": [
    "##### Comparing the Open Accounts of Borrowers with Good and Bad Loans"
   ]
  },
  {
   "cell_type": "code",
   "execution_count": 51,
   "metadata": {
    "collapsed": false
   },
   "outputs": [
    {
     "data": {
      "image/png": "[encoded data removed]",
      "text/plain": [
       "<matplotlib.figure.Figure at 0x10616c18>"
      ]
     },
     "metadata": {},
     "output_type": "display_data"
    }
   ],
   "source": [
    "plt.hist(bad_loans_df.open_acc,17,(0,45),alpha=1, label='Bad Loans', normed=True)\n",
    "plt.hist(good_loans_df.open_acc,17,(0,45),alpha=0.4, label='Good Loans', normed=True)\n",
    "#plt.axis([0, 45, 0, 125000])\n",
    "plt.xlabel('Open Accounts')\n",
    "plt.ylabel('Normalized # of Members')\n",
    "plt.legend(loc='upper right')\n",
    "plt.show()"
   ]
  },
  {
   "cell_type": "markdown",
   "metadata": {},
   "source": [
    "The distributions looks fairly simliar here.  There is almost nothing that looks distinguishable between the two."
   ]
  },
  {
   "cell_type": "markdown",
   "metadata": {},
   "source": [
    "##### Comparing the Credit Grades of Borrowers with Good and Bad Loans"
   ]
  },
  {
   "cell_type": "code",
   "execution_count": 58,
   "metadata": {
    "collapsed": false
   },
   "outputs": [
    {
     "data": {
      "image/png": "[encoded data removed]",
      "text/plain": [
       "<matplotlib.figure.Figure at 0xf72b7f0>"
      ]
     },
     "metadata": {},
     "output_type": "display_data"
    }
   ],
   "source": [
    "bad_loan_grade_freq = Counter(bad_loans_df.grade)\n",
    "good_loan_grade_freq = Counter(good_loans_df.grade)\n",
    "\n",
    "#return sorted order of grades and counts\n",
    "bad_grades, bad_grade_counts = sort_for_graph(bad_loan_grade_freq,\"key\",\"asc\")\n",
    "good_grades, good_grade_counts = sort_for_graph(good_loan_grade_freq,\"key\",\"asc\")\n",
    "\n",
    "bad_grade_pct = pd.Series.from_array([bad_grade_counts[i]/(bad_grade_counts[i]+good_grade_counts[i]) \\\n",
    "                 * 100 for i in range(len(bad_grade_counts))])\n",
    "good_grade_pct = pd.Series.from_array([good_grade_counts[i]/(bad_grade_counts[i]+good_grade_counts[i]) \\\n",
    "                  * 100 for i in range(len(good_grade_counts))])\n",
    "\n",
    "ax1 = bad_grade_pct.plot(kind='bar', label = \"Bad Loans\", alpha = .7, color='c')\n",
    "ax1.set_xticklabels(bad_grades)\n",
    "ax2 = good_grade_pct.plot(kind='bar', label = \"Good Loans\", alpha = .7, bottom=bad_grade_pct, color='g')\n",
    "ax2.set_xlabel(\"Loan Grade\")\n",
    "ax2.set_ylabel(\"% of Loans\")\n",
    "ax2.set_xticklabels(bad_grades)\n",
    "\n",
    "rects = ax1.patches\n",
    "labels = [\"{0:.2f}%\".format(bad_grade_pct[i]) for i in xrange(len(bad_grade_pct))]\n",
    "\n",
    "for rect, label in zip(rects, labels):\n",
    "    height = rect.get_height()\n",
    "    ax1.text(rect.get_x() + rect.get_width()/2, height - 3, label, ha='center', va='bottom')\n",
    "               \n",
    "plt.legend(loc='upper right')\n",
    "plt.show()"
   ]
  },
  {
   "cell_type": "markdown",
   "metadata": {},
   "source": [
    "If we look at this distribution as a percentage of good and bad loans respectively, then we can see a slightly higher number of loans that have a grade of D or lower in the bad loans.  This looks to be a pretty big indicator of what determines a good loan versus a bad loan."
   ]
  },
  {
   "cell_type": "markdown",
   "metadata": {},
   "source": [
    "##### Comparing the Loan Purpose of Borrowers with Good and Bad Loans"
   ]
  },
  {
   "cell_type": "code",
   "execution_count": 53,
   "metadata": {
    "collapsed": false
   },
   "outputs": [
    {
     "data": {
      "image/png": "[encoded data removed]",
      "text/plain": [
       "<matplotlib.figure.Figure at 0xf812b38>"
      ]
     },
     "metadata": {},
     "output_type": "display_data"
    }
   ],
   "source": [
    "bad_loan_purpose_freq = Counter(bad_loans_df.purpose)\n",
    "good_loan_purpose_freq = Counter(good_loans_df.purpose)\n",
    "\n",
    "#return sorted order of purposes and counts\n",
    "bad_purposes, bad_purpose_counts = sort_for_graph(bad_loan_purpose_freq,\"key\",\"asc\")\n",
    "good_purposes, good_purpose_counts = sort_for_graph(good_loan_purpose_freq,\"key\",\"asc\")\n",
    "\n",
    "bad_purpose_pct = pd.Series.from_array([bad_purpose_counts[i]/(bad_purpose_counts[i]+good_purpose_counts[i]) \\\n",
    "                   * 100 for i in range(len(bad_purpose_counts))])\n",
    "good_purpose_pct = pd.Series.from_array([good_purpose_counts[i]/(bad_purpose_counts[i]+good_purpose_counts[i]) \\\n",
    "                    * 100 for i in range(len(good_purpose_counts))])\n",
    "\n",
    "#add line breaks in keys so that we can easily see them on the graph\n",
    "bad_purposes = list(bad_purposes)\n",
    "for x,str in enumerate(bad_purposes):\n",
    "    bad_purposes[x] = str.replace('_','\\n')\n",
    "    \n",
    "ax1 = bad_purpose_pct.plot(kind='bar', label = \"Bad Loans\", alpha = .7, color='c')\n",
    "ax2 = good_purpose_pct.plot(kind='bar', label = \"Good Loans\", alpha = .7, bottom=bad_purpose_pct, color='g')\n",
    "ax2.set_xlabel(\"Credit Purpose\")\n",
    "ax2.set_ylabel(\"% of Loans\")\n",
    "ax2.set_xticklabels(bad_purposes)\n",
    "\n",
    "rects = ax1.patches\n",
    "labels = [\"{0:.2f}%\".format(bad_purpose_pct[i]) for i in xrange(len(bad_purpose_pct))]\n",
    "\n",
    "for rect, label in zip(rects, labels):\n",
    "    height = rect.get_height()\n",
    "    ax1.text(rect.get_x() + rect.get_width()/2, height - 4, label, ha='center', va='bottom')\n",
    "\n",
    "plt.legend(loc='upper right')\n",
    "plt.tight_layout()\n",
    "plt.show()"
   ]
  },
  {
   "cell_type": "code",
   "execution_count": 54,
   "metadata": {
    "collapsed": false
   },
   "outputs": [
    {
     "name": "stdout",
     "output_type": "stream",
     "text": [
      "6.23%\n"
     ]
    }
   ],
   "source": [
    "print \"{0:.2f}%\".format(sum(bad_purpose_counts) / (sum(bad_purpose_counts)+sum(good_purpose_counts)) * 100)"
   ]
  },
  {
   "cell_type": "markdown",
   "metadata": {},
   "source": [
    "It looks like those who apply for loans for the purpose of Small Businesses have a much higher Bad Loan Percentage than the average loan.  We can look into determining whether Small Business loans by default will come with much higher risk."
   ]
  },
  {
   "cell_type": "markdown",
   "metadata": {},
   "source": [
    "##### Comparing the Home Ownership Status of Borrowers with Good and Bad Loans"
   ]
  },
  {
   "cell_type": "code",
   "execution_count": 55,
   "metadata": {
    "collapsed": false
   },
   "outputs": [
    {
     "data": {
      "image/png": "[encoded data removed]",
      "text/plain": [
       "<matplotlib.figure.Figure at 0x10605438>"
      ]
     },
     "metadata": {},
     "output_type": "display_data"
    }
   ],
   "source": [
    "bad_loan_ho_freq = Counter(bad_loans_df.home_ownership)\n",
    "good_loan_ho_freq = Counter(good_loans_df.home_ownership)\n",
    "\n",
    "#return sorted order of hos and counts\n",
    "bad_ho, bad_ho_counts = sort_for_graph(bad_loan_ho_freq,\"key\",\"asc\")\n",
    "good_ho, good_ho_counts = sort_for_graph(good_loan_ho_freq,\"key\",\"asc\")\n",
    "\n",
    "bad_ho_pct = pd.Series.from_array([bad_ho_counts[i]/(bad_ho_counts[i]+good_ho_counts[i]) \\\n",
    "                   * 100 for i in range(len(bad_ho_counts))])\n",
    "good_ho_pct = pd.Series.from_array([good_ho_counts[i]/(bad_ho_counts[i]+good_ho_counts[i]) \\\n",
    "                    * 100 for i in range(len(good_ho_counts))])\n",
    "    \n",
    "ax1 = bad_ho_pct.plot(kind='bar', label = \"Bad Loans\", alpha = .7, color='c')\n",
    "ax2 = good_ho_pct.plot(kind='bar', label = \"Good Loans\", alpha = .7, bottom=bad_ho_pct, color='g')\n",
    "ax2.set_xlabel(\"Home Ownership Status\")\n",
    "ax2.set_ylabel(\"% of Loans\")\n",
    "ax2.set_xticklabels(bad_ho)\n",
    "\n",
    "rects = ax1.patches\n",
    "labels = [\"{0:.2f}%\".format(bad_ho_pct[i]) for i in xrange(len(bad_ho_pct))]\n",
    "\n",
    "for rect, label in zip(rects, labels):\n",
    "    height = rect.get_height()\n",
    "    ax1.text(rect.get_x() + rect.get_width()/2, height - 4, label, ha='center', va='bottom')\n",
    "\n",
    "plt.legend(loc='upper right')\n",
    "plt.tight_layout()\n",
    "plt.show()"
   ]
  },
  {
   "cell_type": "markdown",
   "metadata": {},
   "source": [
    "We evaluated the number of borrowers by Home Ownership status earlier and there weren't many people that fell into the Other category.  However, nearly 1 in 5 of these borrowers have a bad loan.  We may need to look further into what different types of situations this could encapsulate and if there any any specific risk we can mitigate here."
   ]
  },
  {
   "cell_type": "markdown",
   "metadata": {
    "collapsed": true
   },
   "source": [
    "**Of the 5 variables you chose, could any of these cause loans to go bad?**"
   ]
  },
  {
   "cell_type": "markdown",
   "metadata": {},
   "source": [
    "I'm not sure that we can immediately say that \"Other\" Home Ownership or \"Small Business\" loans immediately make a loan go bad at this point, but we can probably dig further into these types of loans to see what combination of criteria typically leads to a bad loan so that we can try to mitigate that risk as much as possible in the future."
   ]
  },
  {
   "cell_type": "markdown",
   "metadata": {},
   "source": [
    "### Conclusions"
   ]
  },
  {
   "cell_type": "markdown",
   "metadata": {},
   "source": [
    "The Lending Club looks to have a pretty good understanding of how to minimize risk on the loans that they approve for their investors.  \n",
    "\n",
    "If we define a bad loan as one that has been Charged Off, Defaulted, or is over 30 days late, then only 6.2% of their loans are categorized as loans in a bad position.  They have utilized the major factors such as previous credit history and certified income to get it down to that level.\n",
    "\n",
    "However, there are other such factors that we could dive further down into to try and lower that number further.  We saw that loans for Small Business and borrowers with an undefined home ownership status tend to have a higher risk.  There are probably specific factors hiding in those numbers that we can isolate and use in a loan application to determine whether Lending Club wants to assume those risks."
   ]
  },
  {
   "cell_type": "markdown",
   "metadata": {},
   "source": [
    "We could also continue our analysis on several of the data elements.\n",
    "\n",
    "**Issue Date** - We can analyze the previous data to find where lulls in loan applications occur to prepare for downturns in revenue and try to find ways to mitigate that.\n",
    "\n",
    "**Next Payment Date** - We can use this information to provide revenue forecasts to the executives and investors about when money is expected to come in.\n",
    "\n",
    "**Final Date** - We can also use this date to provide potential gaps in revenue to the executives and investors.  If a large percentage of borrowers are expected to complete their payments in a specific timeframe, then a gap in revenue would be expected."
   ]
  }
 ],
 "metadata": {
  "kernelspec": {
   "display_name": "Python 2",
   "language": "python",
   "name": "python2"
  },
  "language_info": {
   "codemirror_mode": {
    "name": "ipython",
    "version": 2
   },
   "file_extension": ".py",
   "mimetype": "text/x-python",
   "name": "python",
   "nbconvert_exporter": "python",
   "pygments_lexer": "ipython2",
   "version": "2.7.13"
  }
 },
 "nbformat": 4,
 "nbformat_minor": 2
}
